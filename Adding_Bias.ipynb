{
 "cells": [
  {
   "cell_type": "code",
   "execution_count": null,
   "id": "0",
   "metadata": {},
   "outputs": [],
   "source": [
    "import pandas as pd\n",
    "import numpy as np"
   ]
  },
  {
   "cell_type": "code",
   "execution_count": null,
   "id": "1",
   "metadata": {},
   "outputs": [],
   "source": [
    "df_test_trump_final = pd.read_csv(\"df_test_trump.csv\")"
   ]
  },
  {
   "cell_type": "code",
   "execution_count": null,
   "id": "2",
   "metadata": {},
   "outputs": [],
   "source": [
    "df_test_trump_final"
   ]
  },
  {
   "cell_type": "code",
   "execution_count": null,
   "id": "3",
   "metadata": {},
   "outputs": [],
   "source": [
    "# Add small random variations to scores that are not zero\n",
    "\n",
    "df_test_trump_final['score'] = df_test_trump_final['score'].apply(\n",
    "    lambda x: x if x == 0 else x + np.random.uniform(-0.05, 0.05)\n",
    ")\n",
    "\n",
    "import ace_tools as tools; tools.display_dataframe_to_user(name=\"Modified Trump Test Data\", dataframe=df_test_trump_final)"
   ]
  },
  {
   "cell_type": "code",
   "execution_count": null,
   "id": "4",
   "metadata": {},
   "outputs": [],
   "source": [
    "np.random.seed(0)\n",
    "\n",
    "# Add small variations to non-zero scores\n",
    "df_test_trump_final['score'] = df_test_trump_final['score'].apply(lambda x: x if x == 0 else x + np.random.uniform(-0.05, 0.05))\n",
    "\n",
    "# Save the modified dataset\n",
    "df_test_trump_final.to_csv(\"df_test_trump_modified.csv\", index=False)"
   ]
  },
  {
   "cell_type": "code",
   "execution_count": null,
   "id": "5",
   "metadata": {},
   "outputs": [],
   "source": [
    "df_test_trump_final"
   ]
  },
  {
   "cell_type": "code",
   "execution_count": null,
   "id": "6",
   "metadata": {},
   "outputs": [],
   "source": [
    "df_test_harris_final = pd.read_csv(\"df_test_harris.csv\")"
   ]
  },
  {
   "cell_type": "code",
   "execution_count": null,
   "id": "7",
   "metadata": {},
   "outputs": [],
   "source": [
    "#df_test_harris_final"
   ]
  },
  {
   "cell_type": "code",
   "execution_count": null,
   "id": "8",
   "metadata": {},
   "outputs": [],
   "source": [
    "np.random.seed(0)\n",
    "\n",
    "# Add small variations to non-zero scores\n",
    "df_test_trump_final['score'] = df_test_trump_final['score'].apply(lambda x: x if x == 0 else x + np.random.uniform(-0.05, 0.05))\n",
    "\n",
    "# Save the modified dataset\n",
    "df_test_trump_final.to_csv(\"df_test_trump_modified.csv\", index=False)"
   ]
  }
 ],
 "metadata": {
  "kernelspec": {
   "display_name": "Python 3 (ipykernel)",
   "language": "python",
   "name": "python3"
  },
  "language_info": {
   "codemirror_mode": {
    "name": "ipython",
    "version": 3
   },
   "file_extension": ".py",
   "mimetype": "text/x-python",
   "name": "python",
   "nbconvert_exporter": "python",
   "pygments_lexer": "ipython3",
   "version": "3.11.4"
  }
 },
 "nbformat": 4,
 "nbformat_minor": 5
}
