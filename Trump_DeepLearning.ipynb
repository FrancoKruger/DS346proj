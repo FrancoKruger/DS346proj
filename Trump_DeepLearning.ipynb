{
 "cells": [
  {
   "cell_type": "markdown",
   "id": "0",
   "metadata": {},
   "source": [
    "# Trump"
   ]
  },
  {
   "cell_type": "code",
   "execution_count": null,
   "id": "1",
   "metadata": {},
   "outputs": [],
   "source": [
    "from transformers import pipeline\n",
    "from transformers import AutoTokenizer\n",
    "from transformers import AutoModelForSequenceClassification\n",
    "import pandas as pd"
   ]
  },
  {
   "cell_type": "code",
   "execution_count": null,
   "id": "2",
   "metadata": {},
   "outputs": [],
   "source": [
    "sentiment_analyzer = pipeline(\"sentiment-analysis\", model=\"lxyuan/distilbert-base-multilingual-cased-sentiments-student\", top_k=None)\n",
    "\n",
    "# Test the model with a sentence\n",
    "result = sentiment_analyzer(\"improves GDP by 5% and increases homelessness by 5%\")\n",
    "print(result)"
   ]
  },
  {
   "cell_type": "code",
   "execution_count": null,
   "id": "3",
   "metadata": {},
   "outputs": [],
   "source": [
    "model_name =\"lxyuan/distilbert-base-multilingual-cased-sentiments-student\""
   ]
  },
  {
   "cell_type": "code",
   "execution_count": null,
   "id": "4",
   "metadata": {},
   "outputs": [],
   "source": [
    "# Load the pre-trained model\n",
    "model = AutoModelForSequenceClassification.from_pretrained(model_name)"
   ]
  },
  {
   "cell_type": "code",
   "execution_count": null,
   "id": "5",
   "metadata": {},
   "outputs": [],
   "source": [
    "model"
   ]
  },
  {
   "cell_type": "markdown",
   "id": "6",
   "metadata": {},
   "source": [
    "## Final data"
   ]
  },
  {
   "cell_type": "code",
   "execution_count": null,
   "id": "7",
   "metadata": {},
   "outputs": [],
   "source": [
    "df_train = pd.read_csv(\"train_trump.csv\")"
   ]
  },
  {
   "cell_type": "code",
   "execution_count": null,
   "id": "8",
   "metadata": {},
   "outputs": [],
   "source": [
    "df_train.head()"
   ]
  },
  {
   "cell_type": "code",
   "execution_count": null,
   "id": "9",
   "metadata": {},
   "outputs": [],
   "source": [
    "# Drop the 'candidate' and 'publishedAt' columns\n",
    "df_train_final = df_train.drop(columns=['candidate', 'publishedAt'])\n",
    "\n",
    "df_train_final.head()"
   ]
  },
  {
   "cell_type": "markdown",
   "id": "10",
   "metadata": {},
   "source": [
    "## Tokens"
   ]
  },
  {
   "cell_type": "code",
   "execution_count": null,
   "id": "11",
   "metadata": {},
   "outputs": [],
   "source": [
    "# check if all words in articles have tokens"
   ]
  },
  {
   "cell_type": "code",
   "execution_count": null,
   "id": "12",
   "metadata": {},
   "outputs": [],
   "source": [
    "tokenizer = AutoTokenizer.from_pretrained(model_name)\n",
    "\n",
    "# Print out words not found in tokenizer\n",
    "def check_tokens_in_vocab(text, tokenizer):\n",
    "    words = text.split()  # Split the article into words\n",
    "    missing_tokens = []\n",
    "    for word in words:\n",
    "        tokenized_word = tokenizer.tokenize(word)\n",
    "        if len(tokenized_word) == 0:  # If the tokenizer returns an empty list, the word is not tokenized\n",
    "            print(f\"Word not in tokenizer: {word}\")\n",
    "            missing_tokens.append(word)\n",
    "    return missing_tokens\n",
    "\n",
    "# Loop through all articles in the dataframe\n",
    "df_train_final['missing_tokens'] = df_train_final['article'].apply(lambda x: check_tokens_in_vocab(x, tokenizer))\n",
    "\n",
    "# Check the missing tokens for each article\n",
    "missing_tokens = df_train_final['missing_tokens'].explode().dropna().unique()\n",
    "print(f\"Unique missing tokens: {missing_tokens}\")\n",
    "\n",
    "# Optionally, display the missing tokens for review\n",
    "print(f\"Total unique missing tokens: {len(missing_tokens)}\")"
   ]
  },
  {
   "cell_type": "markdown",
   "id": "13",
   "metadata": {},
   "source": [
    "# Check if some important words from word cloud are tokens if not add "
   ]
  },
  {
   "cell_type": "code",
   "execution_count": null,
   "id": "14",
   "metadata": {},
   "outputs": [],
   "source": [
    "words = ['candidate', 'battleground', 'state', 'presidential', 'new york',\n",
    "        'cnn', 'mark robinson', 'report', 'jd vance',\n",
    "        'democratic', 'post', 'win', 'news', \n",
    "        'poll', 'among', 'voter', 'polling', 'support', 'former', 'president',\n",
    "        'election', 'georgia', 'vote', 'race', 'democrat', 'texas', \n",
    "        'jury', 'bidenharris', 'federal', 'republican', \n",
    "        'vice', 'united', 'nominee', 'white', 'biden',\n",
    "        'rhetoric', 'assassination',\n",
    "        'administration', 'interview', 'debate',\n",
    "        'campaign','gop', 'house', 'supporter', \n",
    "        'called', 'claim', 'analyst', 'rally', 'lie', 'call',\n",
    "        'lead', 'vp', 'key', 'show', 'town hall', 'fox', 'policy', \n",
    "        'tim walz', 'attack', 'american', 'tariff', 'country', 'helene', 'host',\n",
    "        'swing', 'pennsylvania', 'joe', 'hurricane', 'woman', 'political','obama', \n",
    "        'economy', 'issue', 'plan', 'record', 'elon musk']\n",
    "\n",
    "# Function to check if each word in the array is tokenized\n",
    "def check_multiple_words_tokenized(words_list, tokenizer):\n",
    "    for word in words_list:\n",
    "        tokenized_word = tokenizer.tokenize(word)\n",
    "        print(f\"Tokenized version of '{word}': {tokenized_word}\")\n",
    "        \n",
    "check_multiple_words_tokenized(words, tokenizer)"
   ]
  },
  {
   "cell_type": "markdown",
   "id": "15",
   "metadata": {},
   "source": [
    "# Add tokens"
   ]
  },
  {
   "cell_type": "code",
   "execution_count": null,
   "id": "16",
   "metadata": {},
   "outputs": [],
   "source": [
    "# Check which words need to be added as tokens\n",
    "missing_tokens = []\n",
    "for word in words:\n",
    "    tokenized_word = tokenizer.tokenize(word)\n",
    "    if len(tokenized_word) > 1 or any(t.startswith(\"##\") for t in tokenized_word):\n",
    "        missing_tokens.append(word)\n",
    "\n",
    "# Add missing tokens to the tokenizer\n",
    "if missing_tokens:\n",
    "    tokenizer.add_tokens(missing_tokens)\n",
    "    print(f\"Added {len(missing_tokens)} new tokens: {missing_tokens}\")\n",
    "else:\n",
    "    print(\"No new tokens needed.\")\n",
    "\n",
    "# Resize the model’s token embeddings to match the new tokenizer\n",
    "model.resize_token_embeddings(len(tokenizer))"
   ]
  },
  {
   "cell_type": "code",
   "execution_count": null,
   "id": "17",
   "metadata": {},
   "outputs": [],
   "source": [
    "model.distilbert.embeddings"
   ]
  },
  {
   "cell_type": "code",
   "execution_count": null,
   "id": "18",
   "metadata": {},
   "outputs": [],
   "source": []
  }
 ],
 "metadata": {
  "kernelspec": {
   "display_name": "Python 3 (ipykernel)",
   "language": "python",
   "name": "python3"
  },
  "language_info": {
   "codemirror_mode": {
    "name": "ipython",
    "version": 3
   },
   "file_extension": ".py",
   "mimetype": "text/x-python",
   "name": "python",
   "nbconvert_exporter": "python",
   "pygments_lexer": "ipython3",
   "version": "3.11.4"
  }
 },
 "nbformat": 4,
 "nbformat_minor": 5
}
