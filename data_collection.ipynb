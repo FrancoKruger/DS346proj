{
 "cells": [
  {
   "cell_type": "code",
   "execution_count": 1,
   "metadata": {},
   "outputs": [],
   "source": [
    "import requests\n",
    "import json\n",
    "from datetime import datetime, timedelta\n",
    "\n",
    "API_KEY = \"9c56272ec3ef4a73a5bfe06c8bc1a4e9\"\n",
    "URL = \"https://newsapi.org/v2/everything\""
   ]
  },
  {
   "cell_type": "code",
   "execution_count": 2,
   "metadata": {},
   "outputs": [],
   "source": [
    "def fetch_articles(query, from_date, to_date, page_size=100):\n",
    "    params = {\n",
    "        \"q\": query,\n",
    "        \"from\": from_date,\n",
    "        \"to\": to_date,\n",
    "        \"language\": \"en\",\n",
    "        \"pageSize\": page_size,\n",
    "        \"searchIn\": \"title,description\",  # Limit search to title and description\n",
    "        \"apiKey\": API_KEY,\n",
    "    }\n",
    "    response = requests.get(URL, params=params)\n",
    "    data = response.json()\n",
    "\n",
    "    if data[\"status\"] != \"ok\":\n",
    "        print(f\"Error: {data['message']}\")\n",
    "        return []\n",
    "\n",
    "    return data.get(\"articles\", [])\n",
    "\n",
    "\n",
    "def save_articles_to_json(articles, filename):\n",
    "    with open(filename, \"w\") as file:\n",
    "        json.dump(articles, file, indent=4)\n",
    "\n",
    "\n",
    "# Function to split date range into weekly intervals\n",
    "def date_range_splitter(start_date, end_date, delta=7):\n",
    "    date_ranges = []\n",
    "    current_date = start_date\n",
    "    while current_date < end_date:\n",
    "        next_date = current_date + timedelta(days=delta)\n",
    "        date_ranges.append(\n",
    "            (current_date.strftime(\"%Y-%m-%d\"), next_date.strftime(\"%Y-%m-%d\"))\n",
    "        )\n",
    "        current_date = next_date\n",
    "    return date_ranges"
   ]
  },
  {
   "cell_type": "code",
   "execution_count": 3,
   "metadata": {},
   "outputs": [
    {
     "name": "stdout",
     "output_type": "stream",
     "text": [
      "Fetching Trump articles from 2024-09-16 to 2024-09-23\n",
      "Fetching Harris articles from 2024-09-16 to 2024-09-23\n",
      "Fetching Trump articles from 2024-09-23 to 2024-09-30\n",
      "Fetching Harris articles from 2024-09-23 to 2024-09-30\n",
      "Fetching Trump articles from 2024-09-30 to 2024-10-07\n",
      "Fetching Harris articles from 2024-09-30 to 2024-10-07\n",
      "Fetching Trump articles from 2024-10-07 to 2024-10-14\n",
      "Fetching Harris articles from 2024-10-07 to 2024-10-14\n",
      "Fetching Trump articles from 2024-10-14 to 2024-10-21\n",
      "Fetching Harris articles from 2024-10-14 to 2024-10-21\n",
      "Saved 500 Trump articles and 500 Harris articles.\n"
     ]
    }
   ],
   "source": [
    "# Set the date range for the last month\n",
    "today = datetime.now()\n",
    "start_date = datetime(2024, 9, 16)\n",
    "date_ranges = date_range_splitter(\n",
    "    start_date, today, delta=7\n",
    ")  # Split into weekly intervals\n",
    "\n",
    "all_trump_articles = []\n",
    "all_harris_articles = []\n",
    "\n",
    "# Fetch articles for each date range\n",
    "for from_date, to_date in date_ranges:\n",
    "    print(f\"Fetching Trump articles from {from_date} to {to_date}\")\n",
    "    trump_articles = fetch_articles(\"Donald Trump\", from_date, to_date)\n",
    "    all_trump_articles.extend(trump_articles)\n",
    "\n",
    "    print(f\"Fetching Harris articles from {from_date} to {to_date}\")\n",
    "    harris_articles = fetch_articles(\"Kamala Harris\", from_date, to_date)\n",
    "    all_harris_articles.extend(harris_articles)\n",
    "\n",
    "# Save the articles in dataset/ folder\n",
    "save_articles_to_json(all_trump_articles, \"dataset/trump_articles.json\")\n",
    "save_articles_to_json(all_harris_articles, \"dataset/harris_articles.json\")\n",
    "\n",
    "print(\n",
    "    f\"Saved {len(all_trump_articles)} Trump articles and {len(all_harris_articles)} Harris articles.\"\n",
    ")"
   ]
  }
 ],
 "metadata": {
  "kernelspec": {
   "display_name": ".venv",
   "language": "python",
   "name": "python3"
  },
  "language_info": {
   "codemirror_mode": {
    "name": "ipython",
    "version": 3
   },
   "file_extension": ".py",
   "mimetype": "text/x-python",
   "name": "python",
   "nbconvert_exporter": "python",
   "pygments_lexer": "ipython3",
   "version": "3.8.10"
  }
 },
 "nbformat": 4,
 "nbformat_minor": 2
}
