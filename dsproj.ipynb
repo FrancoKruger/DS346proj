{
 "cells": [
  {
   "cell_type": "code",
   "execution_count": 12,
   "id": "6e241aec",
   "metadata": {},
   "outputs": [
    {
     "name": "stdout",
     "output_type": "stream",
     "text": [
      "Requirement already satisfied: newsapi-python in c:\\users\\franc\\onedrive\\documents\\admin\\universiteit\\akademies\\year 3\\data science 346\\project\\ds346proj\\myenv\\lib\\site-packages (0.2.7)\n",
      "Requirement already satisfied: requests<3.0.0 in c:\\users\\franc\\onedrive\\documents\\admin\\universiteit\\akademies\\year 3\\data science 346\\project\\ds346proj\\myenv\\lib\\site-packages (from newsapi-python) (2.32.3)\n",
      "Requirement already satisfied: charset-normalizer<4,>=2 in c:\\users\\franc\\onedrive\\documents\\admin\\universiteit\\akademies\\year 3\\data science 346\\project\\ds346proj\\myenv\\lib\\site-packages (from requests<3.0.0->newsapi-python) (3.4.0)\n",
      "Requirement already satisfied: idna<4,>=2.5 in c:\\users\\franc\\onedrive\\documents\\admin\\universiteit\\akademies\\year 3\\data science 346\\project\\ds346proj\\myenv\\lib\\site-packages (from requests<3.0.0->newsapi-python) (3.10)\n",
      "Requirement already satisfied: urllib3<3,>=1.21.1 in c:\\users\\franc\\onedrive\\documents\\admin\\universiteit\\akademies\\year 3\\data science 346\\project\\ds346proj\\myenv\\lib\\site-packages (from requests<3.0.0->newsapi-python) (2.2.3)\n",
      "Requirement already satisfied: certifi>=2017.4.17 in c:\\users\\franc\\onedrive\\documents\\admin\\universiteit\\akademies\\year 3\\data science 346\\project\\ds346proj\\myenv\\lib\\site-packages (from requests<3.0.0->newsapi-python) (2024.8.30)\n",
      "Note: you may need to restart the kernel to use updated packages.\n"
     ]
    },
    {
     "name": "stderr",
     "output_type": "stream",
     "text": [
      "\n",
      "[notice] A new release of pip available: 22.3.1 -> 24.2\n",
      "[notice] To update, run: C:\\Users\\franc\\OneDrive\\Documents\\Admin\\Universiteit\\Akademies\\Year 3\\Data Science 346\\Project\\DS346proj\\myenv\\Scripts\\python.exe -m pip install --upgrade pip\n"
     ]
    },
    {
     "name": "stdout",
     "output_type": "stream",
     "text": [
      "Requirement already satisfied: transformers in c:\\users\\franc\\onedrive\\documents\\admin\\universiteit\\akademies\\year 3\\data science 346\\project\\ds346proj\\myenv\\lib\\site-packages (4.45.2)\n",
      "Requirement already satisfied: filelock in c:\\users\\franc\\onedrive\\documents\\admin\\universiteit\\akademies\\year 3\\data science 346\\project\\ds346proj\\myenv\\lib\\site-packages (from transformers) (3.16.1)\n",
      "Requirement already satisfied: huggingface-hub<1.0,>=0.23.2 in c:\\users\\franc\\onedrive\\documents\\admin\\universiteit\\akademies\\year 3\\data science 346\\project\\ds346proj\\myenv\\lib\\site-packages (from transformers) (0.25.2)\n",
      "Requirement already satisfied: numpy>=1.17 in c:\\users\\franc\\onedrive\\documents\\admin\\universiteit\\akademies\\year 3\\data science 346\\project\\ds346proj\\myenv\\lib\\site-packages (from transformers) (2.1.2)\n",
      "Requirement already satisfied: packaging>=20.0 in c:\\users\\franc\\onedrive\\documents\\admin\\universiteit\\akademies\\year 3\\data science 346\\project\\ds346proj\\myenv\\lib\\site-packages (from transformers) (24.1)\n",
      "Requirement already satisfied: pyyaml>=5.1 in c:\\users\\franc\\onedrive\\documents\\admin\\universiteit\\akademies\\year 3\\data science 346\\project\\ds346proj\\myenv\\lib\\site-packages (from transformers) (6.0.2)\n",
      "Requirement already satisfied: regex!=2019.12.17 in c:\\users\\franc\\onedrive\\documents\\admin\\universiteit\\akademies\\year 3\\data science 346\\project\\ds346proj\\myenv\\lib\\site-packages (from transformers) (2024.9.11)\n",
      "Requirement already satisfied: requests in c:\\users\\franc\\onedrive\\documents\\admin\\universiteit\\akademies\\year 3\\data science 346\\project\\ds346proj\\myenv\\lib\\site-packages (from transformers) (2.32.3)\n",
      "Requirement already satisfied: safetensors>=0.4.1 in c:\\users\\franc\\onedrive\\documents\\admin\\universiteit\\akademies\\year 3\\data science 346\\project\\ds346proj\\myenv\\lib\\site-packages (from transformers) (0.4.5)\n",
      "Requirement already satisfied: tokenizers<0.21,>=0.20 in c:\\users\\franc\\onedrive\\documents\\admin\\universiteit\\akademies\\year 3\\data science 346\\project\\ds346proj\\myenv\\lib\\site-packages (from transformers) (0.20.1)\n",
      "Requirement already satisfied: tqdm>=4.27 in c:\\users\\franc\\onedrive\\documents\\admin\\universiteit\\akademies\\year 3\\data science 346\\project\\ds346proj\\myenv\\lib\\site-packages (from transformers) (4.66.5)\n",
      "Requirement already satisfied: fsspec>=2023.5.0 in c:\\users\\franc\\onedrive\\documents\\admin\\universiteit\\akademies\\year 3\\data science 346\\project\\ds346proj\\myenv\\lib\\site-packages (from huggingface-hub<1.0,>=0.23.2->transformers) (2024.9.0)\n",
      "Requirement already satisfied: typing-extensions>=3.7.4.3 in c:\\users\\franc\\onedrive\\documents\\admin\\universiteit\\akademies\\year 3\\data science 346\\project\\ds346proj\\myenv\\lib\\site-packages (from huggingface-hub<1.0,>=0.23.2->transformers) (4.12.2)\n",
      "Requirement already satisfied: colorama in c:\\users\\franc\\onedrive\\documents\\admin\\universiteit\\akademies\\year 3\\data science 346\\project\\ds346proj\\myenv\\lib\\site-packages (from tqdm>=4.27->transformers) (0.4.6)\n",
      "Requirement already satisfied: charset-normalizer<4,>=2 in c:\\users\\franc\\onedrive\\documents\\admin\\universiteit\\akademies\\year 3\\data science 346\\project\\ds346proj\\myenv\\lib\\site-packages (from requests->transformers) (3.4.0)\n",
      "Requirement already satisfied: idna<4,>=2.5 in c:\\users\\franc\\onedrive\\documents\\admin\\universiteit\\akademies\\year 3\\data science 346\\project\\ds346proj\\myenv\\lib\\site-packages (from requests->transformers) (3.10)\n",
      "Requirement already satisfied: urllib3<3,>=1.21.1 in c:\\users\\franc\\onedrive\\documents\\admin\\universiteit\\akademies\\year 3\\data science 346\\project\\ds346proj\\myenv\\lib\\site-packages (from requests->transformers) (2.2.3)\n",
      "Requirement already satisfied: certifi>=2017.4.17 in c:\\users\\franc\\onedrive\\documents\\admin\\universiteit\\akademies\\year 3\\data science 346\\project\\ds346proj\\myenv\\lib\\site-packages (from requests->transformers) (2024.8.30)\n",
      "Note: you may need to restart the kernel to use updated packages.\n"
     ]
    },
    {
     "name": "stderr",
     "output_type": "stream",
     "text": [
      "\n",
      "[notice] A new release of pip available: 22.3.1 -> 24.2\n",
      "[notice] To update, run: C:\\Users\\franc\\OneDrive\\Documents\\Admin\\Universiteit\\Akademies\\Year 3\\Data Science 346\\Project\\DS346proj\\myenv\\Scripts\\python.exe -m pip install --upgrade pip\n"
     ]
    },
    {
     "name": "stdout",
     "output_type": "stream",
     "text": [
      "Requirement already satisfied: bert-for-sequence-classification in c:\\users\\franc\\onedrive\\documents\\admin\\universiteit\\akademies\\year 3\\data science 346\\project\\ds346proj\\myenv\\lib\\site-packages (0.1.1)\n",
      "Requirement already satisfied: transformers>=4.21.0 in c:\\users\\franc\\onedrive\\documents\\admin\\universiteit\\akademies\\year 3\\data science 346\\project\\ds346proj\\myenv\\lib\\site-packages (from bert-for-sequence-classification) (4.45.2)\n",
      "Requirement already satisfied: torch>=1.7.1 in c:\\users\\franc\\onedrive\\documents\\admin\\universiteit\\akademies\\year 3\\data science 346\\project\\ds346proj\\myenv\\lib\\site-packages (from bert-for-sequence-classification) (2.4.1)\n",
      "Requirement already satisfied: numpy>=1.19.5 in c:\\users\\franc\\onedrive\\documents\\admin\\universiteit\\akademies\\year 3\\data science 346\\project\\ds346proj\\myenv\\lib\\site-packages (from bert-for-sequence-classification) (2.1.2)\n",
      "Requirement already satisfied: pandas>=1.1.5 in c:\\users\\franc\\onedrive\\documents\\admin\\universiteit\\akademies\\year 3\\data science 346\\project\\ds346proj\\myenv\\lib\\site-packages (from bert-for-sequence-classification) (2.2.3)\n",
      "Requirement already satisfied: scikit-learn>=1.0 in c:\\users\\franc\\onedrive\\documents\\admin\\universiteit\\akademies\\year 3\\data science 346\\project\\ds346proj\\myenv\\lib\\site-packages (from bert-for-sequence-classification) (1.5.2)\n",
      "Requirement already satisfied: pyyaml>=6.0 in c:\\users\\franc\\onedrive\\documents\\admin\\universiteit\\akademies\\year 3\\data science 346\\project\\ds346proj\\myenv\\lib\\site-packages (from bert-for-sequence-classification) (6.0.2)\n",
      "Requirement already satisfied: openpyxl>=3.0.9 in c:\\users\\franc\\onedrive\\documents\\admin\\universiteit\\akademies\\year 3\\data science 346\\project\\ds346proj\\myenv\\lib\\site-packages (from bert-for-sequence-classification) (3.1.5)\n",
      "Requirement already satisfied: wget in c:\\users\\franc\\onedrive\\documents\\admin\\universiteit\\akademies\\year 3\\data science 346\\project\\ds346proj\\myenv\\lib\\site-packages (from bert-for-sequence-classification) (3.2)\n",
      "Requirement already satisfied: tqdm in c:\\users\\franc\\onedrive\\documents\\admin\\universiteit\\akademies\\year 3\\data science 346\\project\\ds346proj\\myenv\\lib\\site-packages (from bert-for-sequence-classification) (4.66.5)\n",
      "Requirement already satisfied: et-xmlfile in c:\\users\\franc\\onedrive\\documents\\admin\\universiteit\\akademies\\year 3\\data science 346\\project\\ds346proj\\myenv\\lib\\site-packages (from openpyxl>=3.0.9->bert-for-sequence-classification) (1.1.0)\n",
      "Requirement already satisfied: python-dateutil>=2.8.2 in c:\\users\\franc\\onedrive\\documents\\admin\\universiteit\\akademies\\year 3\\data science 346\\project\\ds346proj\\myenv\\lib\\site-packages (from pandas>=1.1.5->bert-for-sequence-classification) (2.9.0.post0)\n",
      "Requirement already satisfied: pytz>=2020.1 in c:\\users\\franc\\onedrive\\documents\\admin\\universiteit\\akademies\\year 3\\data science 346\\project\\ds346proj\\myenv\\lib\\site-packages (from pandas>=1.1.5->bert-for-sequence-classification) (2024.2)\n",
      "Requirement already satisfied: tzdata>=2022.7 in c:\\users\\franc\\onedrive\\documents\\admin\\universiteit\\akademies\\year 3\\data science 346\\project\\ds346proj\\myenv\\lib\\site-packages (from pandas>=1.1.5->bert-for-sequence-classification) (2024.2)\n",
      "Requirement already satisfied: scipy>=1.6.0 in c:\\users\\franc\\onedrive\\documents\\admin\\universiteit\\akademies\\year 3\\data science 346\\project\\ds346proj\\myenv\\lib\\site-packages (from scikit-learn>=1.0->bert-for-sequence-classification) (1.14.1)\n",
      "Requirement already satisfied: joblib>=1.2.0 in c:\\users\\franc\\onedrive\\documents\\admin\\universiteit\\akademies\\year 3\\data science 346\\project\\ds346proj\\myenv\\lib\\site-packages (from scikit-learn>=1.0->bert-for-sequence-classification) (1.4.2)\n",
      "Requirement already satisfied: threadpoolctl>=3.1.0 in c:\\users\\franc\\onedrive\\documents\\admin\\universiteit\\akademies\\year 3\\data science 346\\project\\ds346proj\\myenv\\lib\\site-packages (from scikit-learn>=1.0->bert-for-sequence-classification) (3.5.0)\n",
      "Requirement already satisfied: filelock in c:\\users\\franc\\onedrive\\documents\\admin\\universiteit\\akademies\\year 3\\data science 346\\project\\ds346proj\\myenv\\lib\\site-packages (from torch>=1.7.1->bert-for-sequence-classification) (3.16.1)\n",
      "Requirement already satisfied: typing-extensions>=4.8.0 in c:\\users\\franc\\onedrive\\documents\\admin\\universiteit\\akademies\\year 3\\data science 346\\project\\ds346proj\\myenv\\lib\\site-packages (from torch>=1.7.1->bert-for-sequence-classification) (4.12.2)\n",
      "Requirement already satisfied: sympy in c:\\users\\franc\\onedrive\\documents\\admin\\universiteit\\akademies\\year 3\\data science 346\\project\\ds346proj\\myenv\\lib\\site-packages (from torch>=1.7.1->bert-for-sequence-classification) (1.13.3)\n",
      "Requirement already satisfied: networkx in c:\\users\\franc\\onedrive\\documents\\admin\\universiteit\\akademies\\year 3\\data science 346\\project\\ds346proj\\myenv\\lib\\site-packages (from torch>=1.7.1->bert-for-sequence-classification) (3.4.1)\n",
      "Requirement already satisfied: jinja2 in c:\\users\\franc\\onedrive\\documents\\admin\\universiteit\\akademies\\year 3\\data science 346\\project\\ds346proj\\myenv\\lib\\site-packages (from torch>=1.7.1->bert-for-sequence-classification) (3.1.4)\n",
      "Requirement already satisfied: fsspec in c:\\users\\franc\\onedrive\\documents\\admin\\universiteit\\akademies\\year 3\\data science 346\\project\\ds346proj\\myenv\\lib\\site-packages (from torch>=1.7.1->bert-for-sequence-classification) (2024.9.0)\n",
      "Requirement already satisfied: huggingface-hub<1.0,>=0.23.2 in c:\\users\\franc\\onedrive\\documents\\admin\\universiteit\\akademies\\year 3\\data science 346\\project\\ds346proj\\myenv\\lib\\site-packages (from transformers>=4.21.0->bert-for-sequence-classification) (0.25.2)\n",
      "Requirement already satisfied: packaging>=20.0 in c:\\users\\franc\\onedrive\\documents\\admin\\universiteit\\akademies\\year 3\\data science 346\\project\\ds346proj\\myenv\\lib\\site-packages (from transformers>=4.21.0->bert-for-sequence-classification) (24.1)\n",
      "Requirement already satisfied: regex!=2019.12.17 in c:\\users\\franc\\onedrive\\documents\\admin\\universiteit\\akademies\\year 3\\data science 346\\project\\ds346proj\\myenv\\lib\\site-packages (from transformers>=4.21.0->bert-for-sequence-classification) (2024.9.11)\n",
      "Requirement already satisfied: requests in c:\\users\\franc\\onedrive\\documents\\admin\\universiteit\\akademies\\year 3\\data science 346\\project\\ds346proj\\myenv\\lib\\site-packages (from transformers>=4.21.0->bert-for-sequence-classification) (2.32.3)\n",
      "Requirement already satisfied: safetensors>=0.4.1 in c:\\users\\franc\\onedrive\\documents\\admin\\universiteit\\akademies\\year 3\\data science 346\\project\\ds346proj\\myenv\\lib\\site-packages (from transformers>=4.21.0->bert-for-sequence-classification) (0.4.5)\n",
      "Requirement already satisfied: tokenizers<0.21,>=0.20 in c:\\users\\franc\\onedrive\\documents\\admin\\universiteit\\akademies\\year 3\\data science 346\\project\\ds346proj\\myenv\\lib\\site-packages (from transformers>=4.21.0->bert-for-sequence-classification) (0.20.1)\n",
      "Requirement already satisfied: colorama in c:\\users\\franc\\onedrive\\documents\\admin\\universiteit\\akademies\\year 3\\data science 346\\project\\ds346proj\\myenv\\lib\\site-packages (from tqdm->bert-for-sequence-classification) (0.4.6)\n",
      "Requirement already satisfied: six>=1.5 in c:\\users\\franc\\onedrive\\documents\\admin\\universiteit\\akademies\\year 3\\data science 346\\project\\ds346proj\\myenv\\lib\\site-packages (from python-dateutil>=2.8.2->pandas>=1.1.5->bert-for-sequence-classification) (1.16.0)\n",
      "Requirement already satisfied: MarkupSafe>=2.0 in c:\\users\\franc\\onedrive\\documents\\admin\\universiteit\\akademies\\year 3\\data science 346\\project\\ds346proj\\myenv\\lib\\site-packages (from jinja2->torch>=1.7.1->bert-for-sequence-classification) (3.0.1)\n",
      "Requirement already satisfied: charset-normalizer<4,>=2 in c:\\users\\franc\\onedrive\\documents\\admin\\universiteit\\akademies\\year 3\\data science 346\\project\\ds346proj\\myenv\\lib\\site-packages (from requests->transformers>=4.21.0->bert-for-sequence-classification) (3.4.0)\n",
      "Requirement already satisfied: idna<4,>=2.5 in c:\\users\\franc\\onedrive\\documents\\admin\\universiteit\\akademies\\year 3\\data science 346\\project\\ds346proj\\myenv\\lib\\site-packages (from requests->transformers>=4.21.0->bert-for-sequence-classification) (3.10)\n",
      "Requirement already satisfied: urllib3<3,>=1.21.1 in c:\\users\\franc\\onedrive\\documents\\admin\\universiteit\\akademies\\year 3\\data science 346\\project\\ds346proj\\myenv\\lib\\site-packages (from requests->transformers>=4.21.0->bert-for-sequence-classification) (2.2.3)\n",
      "Requirement already satisfied: certifi>=2017.4.17 in c:\\users\\franc\\onedrive\\documents\\admin\\universiteit\\akademies\\year 3\\data science 346\\project\\ds346proj\\myenv\\lib\\site-packages (from requests->transformers>=4.21.0->bert-for-sequence-classification) (2024.8.30)\n",
      "Requirement already satisfied: mpmath<1.4,>=1.1.0 in c:\\users\\franc\\onedrive\\documents\\admin\\universiteit\\akademies\\year 3\\data science 346\\project\\ds346proj\\myenv\\lib\\site-packages (from sympy->torch>=1.7.1->bert-for-sequence-classification) (1.3.0)\n",
      "Note: you may need to restart the kernel to use updated packages.\n",
      "2.4.1+cpu\n"
     ]
    },
    {
     "name": "stderr",
     "output_type": "stream",
     "text": [
      "\n",
      "[notice] A new release of pip available: 22.3.1 -> 24.2\n",
      "[notice] To update, run: C:\\Users\\franc\\OneDrive\\Documents\\Admin\\Universiteit\\Akademies\\Year 3\\Data Science 346\\Project\\DS346proj\\myenv\\Scripts\\python.exe -m pip install --upgrade pip\n"
     ]
    }
   ],
   "source": [
    "%pip install newsapi-python\n",
    "%pip install --upgrade transformers\n",
    "%pip install bert-for-sequence-classification\n",
    "from newsapi import NewsApiClient\n",
    "import json\n",
    "import torch\n",
    "import os\n",
    "print(torch.__version__)"
   ]
  },
  {
   "cell_type": "code",
   "execution_count": 15,
   "id": "6b20fa6b",
   "metadata": {},
   "outputs": [
    {
     "name": "stdout",
     "output_type": "stream",
     "text": [
      "Loaded articles from local file.\n",
      "Trump Says He’ll Prosecute Google If He Retakes Power The former president insists Google is hiding positive news stories about him. https://gizmodo.com/trump-says-hell-prosecute-google-if-he-retakes-power-2000504499\n",
      "Kamala Harris accepts CNN invitation for TV debate Trump has yet to comment on the proposed rematch, but has said previously he wouldn't debate Harris again. https://www.bbc.com/news/articles/cwyejk91d2qo\n"
     ]
    }
   ],
   "source": [
    "\n",
    "# Function to fetch articles from API or load from local file\n",
    "def get_articles():\n",
    "    if os.path.exists('articles.json'):\n",
    "        # Load from local file if it exists\n",
    "        with open('articles.json', 'r') as json_file:\n",
    "            articles = json.load(json_file)\n",
    "            print(\"Loaded articles from local file.\")\n",
    "    else:\n",
    "        # Fetch from API if local file does not exist\n",
    "        newsapi = NewsApiClient(api_key='cc7b577d5b4b4462b6eef124170903b1')\n",
    "        articles = newsapi.get_everything(q='Trump OR Harris',\n",
    "                                          from_param='2024-09-19',\n",
    "                                          to='2024-10-01',\n",
    "                                          language='en',\n",
    "                                          sort_by='relevancy',\n",
    "                                          page_size=2)\n",
    "        # Save to local file\n",
    "        with open('articles.json', 'w') as json_file:\n",
    "            json.dump(articles, json_file, indent=4)\n",
    "        print(\"Articles fetched from API and saved locally.\")\n",
    "    \n",
    "    return articles\n",
    "\n",
    "# Call the function to get articles\n",
    "articles = get_articles()\n",
    "\n",
    "for article in articles['articles']:\n",
    "    print(article['title'], article['description'], article['url'])"
   ]
  },
  {
   "cell_type": "code",
   "execution_count": 19,
   "id": "a606e979",
   "metadata": {},
   "outputs": [
    {
     "name": "stderr",
     "output_type": "stream",
     "text": [
      "[nltk_data] Downloading package punkt to\n",
      "[nltk_data]     C:\\Users\\franc\\AppData\\Roaming\\nltk_data...\n",
      "[nltk_data]   Package punkt is already up-to-date!\n",
      "[nltk_data] Downloading package stopwords to\n",
      "[nltk_data]     C:\\Users\\franc\\AppData\\Roaming\\nltk_data...\n",
      "[nltk_data]   Package stopwords is already up-to-date!\n",
      "[nltk_data] Downloading package wordnet to\n",
      "[nltk_data]     C:\\Users\\franc\\AppData\\Roaming\\nltk_data...\n",
      "[nltk_data]   Package wordnet is already up-to-date!\n",
      "[nltk_data] Downloading package omw-1.4 to\n",
      "[nltk_data]     C:\\Users\\franc\\AppData\\Roaming\\nltk_data...\n",
      "[nltk_data]   Package omw-1.4 is already up-to-date!\n"
     ]
    }
   ],
   "source": [
    "import nltk\n",
    "from nltk.corpus import stopwords\n",
    "from nltk.tokenize import word_tokenize\n",
    "from nltk.stem import WordNetLemmatizer\n",
    "\n",
    "nltk.download('punkt')\n",
    "nltk.download('stopwords')\n",
    "nltk.download('wordnet')\n",
    "nltk.download('omw-1.4')\n",
    "stop_words = set(stopwords.words('english'))\n",
    "\n",
    "def preprocess(text):\n",
    "    words = word_tokenize(text.lower())\n",
    "    words = [WordNetLemmatizer().lemmatize(word) for word in words if word.isalpha()]\n",
    "    return ' '.join([word for word in words if word not in stop_words])\n",
    "\n",
    "clean_article = [preprocess(article['title']) for article in articles['articles']]\n"
   ]
  },
  {
   "cell_type": "code",
   "execution_count": 20,
   "id": "7bdc9ec7",
   "metadata": {},
   "outputs": [
    {
     "name": "stdout",
     "output_type": "stream",
     "text": [
      "Article: trump say prosecute google retake power\n",
      "Trump Score: -0.4019, Kamala Harris Score: 0\n",
      "Combined Score (Trump - Kamala): -0.4019\n",
      "\n",
      "Article: kamala harris accepts cnn invitation tv debate\n",
      "Trump Score: 0, Kamala Harris Score: 0.3182\n",
      "Combined Score (Trump - Kamala): -0.3182\n",
      "\n"
     ]
    },
    {
     "name": "stderr",
     "output_type": "stream",
     "text": [
      "[nltk_data] Downloading package vader_lexicon to\n",
      "[nltk_data]     C:\\Users\\franc\\AppData\\Roaming\\nltk_data...\n",
      "[nltk_data]   Package vader_lexicon is already up-to-date!\n",
      "[nltk_data] Downloading package punkt to\n",
      "[nltk_data]     C:\\Users\\franc\\AppData\\Roaming\\nltk_data...\n",
      "[nltk_data]   Package punkt is already up-to-date!\n"
     ]
    }
   ],
   "source": [
    "from nltk.sentiment.vader import SentimentIntensityAnalyzer\n",
    "from nltk import word_tokenize\n",
    "import nltk\n",
    "\n",
    "# Download required resources\n",
    "nltk.download('vader_lexicon')\n",
    "nltk.download('punkt')\n",
    "\n",
    "# Initialize Sentiment Intensity Analyzer\n",
    "sid = SentimentIntensityAnalyzer()\n",
    "\n",
    "# Define lists of keywords for Trump and Kamala Harris\n",
    "trump_keywords = ['trump', 'donald trump', 'president trump']\n",
    "kamala_keywords = ['kamala', 'kamala harris', 'vice president harris']\n",
    "\n",
    "def calculate_sentiment(article):\n",
    "    # Tokenize article text into words\n",
    "    words = word_tokenize(article.lower())\n",
    "    \n",
    "    # Initialize sentiment scores for Trump and Kamala\n",
    "    trump_score = 0\n",
    "    kamala_score = 0\n",
    "    \n",
    "    # Analyze each sentence or word for sentiment, focusing on Trump and Kamala keywords\n",
    "    for word in words:\n",
    "        # If Trump-related word is found, calculate sentiment for Trump\n",
    "        if word in trump_keywords:\n",
    "            sentiment = sid.polarity_scores(article)\n",
    "            trump_score += sentiment['compound']  # Compound is a normalized overall sentiment score\n",
    "            \n",
    "        # If Kamala-related word is found, calculate sentiment for Kamala\n",
    "        elif word in kamala_keywords:\n",
    "            sentiment = sid.polarity_scores(article)\n",
    "            kamala_score += sentiment['compound']  # Use compound score for Kamala sentiment\n",
    "    \n",
    "    # Return both Trump and Kamala scores\n",
    "    return trump_score, kamala_score\n",
    "\n",
    "# Process each article and calculate the combined score\n",
    "for article in clean_article:\n",
    "    trump_score, kamala_score = calculate_sentiment(article)\n",
    "    \n",
    "    # Calculate the final combined score (Trump score - Kamala score)\n",
    "    combined_score = trump_score - kamala_score\n",
    "    \n",
    "    print(f\"Article: {article}\")\n",
    "    print(f\"Trump Score: {trump_score}, Kamala Harris Score: {kamala_score}\")\n",
    "    print(f\"Combined Score (Trump - Kamala): {combined_score}\\n\")\n",
    "\n",
    "\n"
   ]
  },
  {
   "cell_type": "code",
   "execution_count": 6,
   "id": "4ee52ea5",
   "metadata": {},
   "outputs": [
    {
     "name": "stderr",
     "output_type": "stream",
     "text": [
      "Some weights of BertForSequenceClassification were not initialized from the model checkpoint at bert-base-uncased and are newly initialized: ['classifier.bias', 'classifier.weight']\n",
      "You should probably TRAIN this model on a down-stream task to be able to use it for predictions and inference.\n"
     ]
    }
   ],
   "source": [
    "\n",
    "from transformers import BertTokenizer, BertForSequenceClassification\n",
    "from transformers import Trainer, TrainingArguments\n",
    "\n",
    "tokenizer = BertTokenizer.from_pretrained('bert-base-uncased')\n",
    "model = BertForSequenceClassification.from_pretrained('bert-base-uncased', num_labels=3)"
   ]
  },
  {
   "cell_type": "code",
   "execution_count": 7,
   "id": "f94bf218",
   "metadata": {},
   "outputs": [
    {
     "name": "stdout",
     "output_type": "stream",
     "text": [
      "trump say prosecute google retake power {'anger': np.int64(1), 'anticipation': np.int64(0), 'disgust': np.int64(0), 'fear': np.int64(1), 'joy': np.int64(0), 'negative': np.int64(1), 'positive': np.int64(0), 'sadness': np.int64(1), 'surprise': np.int64(1), 'trust': np.int64(0)}\n",
      "kamala harris accepts cnn invitation tv debate {'anger': np.int64(0), 'anticipation': np.int64(1), 'disgust': np.int64(0), 'fear': np.int64(0), 'joy': np.int64(0), 'negative': np.int64(0), 'positive': np.int64(2), 'sadness': np.int64(0), 'surprise': np.int64(0), 'trust': np.int64(0)}\n"
     ]
    }
   ],
   "source": [
    "from nltk.corpus import wordnet as wn\n",
    "import pandas as pd\n",
    "\n",
    "nrc = pd.read_csv('NRC-Emotion-Lexicon-Wordlevel-v0.92.txt', sep='\\t', names=[\"word\", \"emotion\", \"association\"])\n",
    "nrc = nrc.pivot(index='word', columns='emotion', values='association').reset_index()\n",
    "\n",
    "def get_emotions(text):\n",
    "    words = word_tokenize(text.lower())\n",
    "    emotions = {emotion: 0 for emotion in nrc.columns[1:]}\n",
    "    for word in words:\n",
    "        if word in nrc['word'].values:\n",
    "            word_emotions = nrc[nrc['word'] == word].iloc[0, 1:]\n",
    "            for emotion in word_emotions.index:\n",
    "                emotions[emotion] += word_emotions[emotion]\n",
    "    return emotions\n",
    "\n",
    "for article in clean_article:\n",
    "    emotions = get_emotions(article)\n",
    "    print(article, emotions)\n"
   ]
  },
  {
   "cell_type": "code",
   "execution_count": 10,
   "id": "14799668",
   "metadata": {},
   "outputs": [
    {
     "data": {
      "image/png": "[encoded data removed]",
      "text/plain": [
       "<Figure size 640x480 with 1 Axes>"
      ]
     },
     "metadata": {},
     "output_type": "display_data"
    }
   ],
   "source": [
    "import matplotlib.pyplot as plt\n",
    "import seaborn as sns\n",
    "\n",
    "sentiments = ['positive', 'negative', 'neutral']\n",
    "counts = [len([s for s in clean_article if sid.polarity_scores(s)['compound'] > 0.5]),\n",
    "          len([s for s in clean_article if sid.polarity_scores(s)['compound'] < -0.5]),\n",
    "          len([s for s in clean_article if -0.5 <= sid.polarity_scores(s)['compound'] <= 0.5])]\n",
    "\n",
    "sns.barplot(x=sentiments, y=counts)\n",
    "plt.title('Sentiment Distribution for Trump and Harris News Articles')\n",
    "plt.show()\n"
   ]
  },
  {
   "cell_type": "code",
   "execution_count": null,
   "id": "18822770",
   "metadata": {},
   "outputs": [],
   "source": []
  }
 ],
 "metadata": {
  "kernelspec": {
   "display_name": "DSenv",
   "language": "python",
   "name": "myenv"
  },
  "language_info": {
   "codemirror_mode": {
    "name": "ipython",
    "version": 3
   },
   "file_extension": ".py",
   "mimetype": "text/x-python",
   "name": "python",
   "nbconvert_exporter": "python",
   "pygments_lexer": "ipython3",
   "version": "3.11.3"
  }
 },
 "nbformat": 4,
 "nbformat_minor": 5
}
