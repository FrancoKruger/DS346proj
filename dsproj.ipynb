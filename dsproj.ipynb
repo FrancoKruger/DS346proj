{
 "cells": [
  {
   "cell_type": "code",
   "execution_count": null,
   "id": "0",
   "metadata": {},
   "outputs": [],
   "source": [
    "!pip install newsapi-python\n",
    "!pip install --upgrade transformers\n",
    "!pip install bert-for-sequence-classifi|cation\n",
    "from newsapi import NewsApiClient"
   ]
  },
  {
   "cell_type": "code",
   "execution_count": null,
   "id": "1",
   "metadata": {},
   "outputs": [],
   "source": [
    "# Franco API : cc7b577d5b4b4462b6eef124170903b1\n",
    "# Ruan API : 556e9bea40f04f16ac77232bbb8cef2e"
   ]
  },
  {
   "cell_type": "code",
   "execution_count": null,
   "id": "2",
   "metadata": {},
   "outputs": [],
   "source": [
    "# Uncomment and add own API key\n",
    "newsapi = NewsApiClient(api_key='556e9bea40f04f16ac77232bbb8cef2e')\n",
    "\n",
    "articles = newsapi.get_everything(q='Trump OR Harris',\n",
    "                                  from_param='2024-09-19',\n",
    "                                  to='2024-10-01',\n",
    "                                  language='en',\n",
    "                                  sort_by='relevancy',\n",
    "                                  page_size=2)\n",
    "\n",
    "for article in articles['articles']:\n",
    "    print(article['title'], article['description'], article['url'])\n"
   ]
  },
  {
   "cell_type": "code",
   "execution_count": null,
   "id": "3",
   "metadata": {},
   "outputs": [],
   "source": [
    "import nltk\n",
    "from nltk.corpus import stopwords\n",
    "from nltk.tokenize import word_tokenize\n",
    "from nltk.stem import WordNetLemmatizer\n",
    "\n",
    "nltk.download('punkt')\n",
    "nltk.download('stopwords')\n",
    "nltk.download('wordnet')\n",
    "nltk.download('omw-1.4')\n",
    "stop_words = set(stopwords.words('english'))\n",
    "\n",
    "def preprocess(text):\n",
    "    words = word_tokenize(text.lower())\n",
    "    words = [WordNetLemmatizer().lemmatize(word) for word in words if word.isalpha()]\n",
    "    return ' '.join([word for word in words if word not in stop_words])\n",
    "\n",
    "clean_article = [preprocess(article['title']) for article in articles['articles']]\n"
   ]
  },
  {
   "cell_type": "code",
   "execution_count": null,
   "id": "4",
   "metadata": {},
   "outputs": [],
   "source": [
    "from nltk.sentiment.vader import SentimentIntensityAnalyzer\n",
    "nltk.download('vader_lexicon')\n",
    "\n",
    "sid = SentimentIntensityAnalyzer()\n",
    "for article in clean_article:\n",
    "    sentiment = sid.polarity_scores(article)\n",
    "    print(article, sentiment)\n"
   ]
  },
  {
   "cell_type": "code",
   "execution_count": null,
   "id": "5",
   "metadata": {},
   "outputs": [],
   "source": [
    "from transformers import BertTokenizer, BertForSequenceClassification\n",
    "from transformers import Trainer, TrainingArguments\n",
    "\n",
    "tokenizer = BertTokenizer.from_pretrained('bert-base-uncased')\n",
    "model = BertForSequenceClassification.from_pretrained('bert-base-uncased', num_labels=3)"
   ]
  },
  {
   "cell_type": "code",
   "execution_count": null,
   "id": "6",
   "metadata": {},
   "outputs": [],
   "source": [
    "import matplotlib.pyplot as plt\n",
    "import seaborn as sns\n",
    "\n",
    "sentiments = ['positive', 'negative', 'neutral']\n",
    "counts = [len([s for s in clean_article if sid.polarity_scores(s)['compound'] > 0.5]),\n",
    "          len([s for s in clean_article if sid.polarity_scores(s)['compound'] < -0.5]),\n",
    "          len([s for s in clean_article if -0.5 <= sid.polarity_scores(s)['compound'] <= 0.5])]\n",
    "\n",
    "sns.barplot(x=sentiments, y=counts)\n",
    "plt.title('Sentiment Distribution for Trump and Harris News Articles')\n",
    "plt.show()\n"
   ]
  },
  {
   "cell_type": "code",
   "execution_count": null,
   "id": "7",
   "metadata": {},
   "outputs": [],
   "source": []
  }
 ],
 "metadata": {
  "kernelspec": {
   "display_name": "Python 3 (ipykernel)",
   "language": "python",
   "name": "python3"
  },
  "language_info": {
   "codemirror_mode": {
    "name": "ipython",
    "version": 3
   },
   "file_extension": ".py",
   "mimetype": "text/x-python",
   "name": "python",
   "nbconvert_exporter": "python",
   "pygments_lexer": "ipython3",
   "version": "3.11.4"
  }
 },
 "nbformat": 4,
 "nbformat_minor": 5
}
