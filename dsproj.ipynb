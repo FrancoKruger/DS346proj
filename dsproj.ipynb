{
 "cells": [
  {
   "cell_type": "code",
   "execution_count": null,
   "id": "0",
   "metadata": {},
   "outputs": [],
   "source": [
    "!pip install newsapi-python\n",
    "!pip install --upgrade transformers\n",
    "!pip install bert-for-sequence-classifi|cation"
   ]
  },
  {
   "cell_type": "code",
   "execution_count": null,
   "id": "1",
   "metadata": {},
   "outputs": [],
   "source": [
    "from newsapi import NewsApiClient"
   ]
  },
  {
   "cell_type": "code",
   "execution_count": null,
   "id": "2",
   "metadata": {},
   "outputs": [],
   "source": [
    "# Franco API : cc7b577d5b4b4462b6eef124170903b1\n",
    "# Ruan API : 556e9bea40f04f16ac77232bbb8cef2e"
   ]
  },
  {
   "cell_type": "code",
   "execution_count": null,
   "id": "3",
   "metadata": {},
   "outputs": [],
   "source": [
    "# Uncomment and add own API key\n",
    "newsapi = NewsApiClient(api_key='556e9bea40f04f16ac77232bbb8cef2e')\n",
    "\n",
    "articles = newsapi.get_everything(q='Trump OR Harris',\n",
    "                                  from_param='2024-09-19',\n",
    "                                  to='2024-10-01',\n",
    "                                  language='en',\n",
    "                                  sort_by='relevancy',\n",
    "                                  page_size=2)\n",
    "\n",
    "for article in articles['articles']:\n",
    "    print(article['title'], article['description'], article['url'])\n"
   ]
  },
  {
   "cell_type": "code",
   "execution_count": null,
   "id": "4",
   "metadata": {},
   "outputs": [],
   "source": []
  }
 ],
 "metadata": {
  "kernelspec": {
   "display_name": "Python 3 (ipykernel)",
   "language": "python",
   "name": "python3"
  },
  "language_info": {
   "codemirror_mode": {
    "name": "ipython",
    "version": 3
   },
   "file_extension": ".py",
   "mimetype": "text/x-python",
   "name": "python",
   "nbconvert_exporter": "python",
   "pygments_lexer": "ipython3",
   "version": "3.11.4"
  }
 },
 "nbformat": 4,
 "nbformat_minor": 5
}
